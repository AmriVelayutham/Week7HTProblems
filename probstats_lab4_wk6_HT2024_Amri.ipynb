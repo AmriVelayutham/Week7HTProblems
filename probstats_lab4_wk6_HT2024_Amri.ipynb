{
 "cells": [
  {
   "cell_type": "markdown",
   "id": "050a4892",
   "metadata": {},
   "source": [
    "# ProbStats Lab4 -- HT week 6\n",
    "\n",
    "The problems in Laboratory 4 (week 6) for Probability and Statistics focus on common statistical tests. Use this empty notebook to complete portions of the lab that require the Math, NumPy, SciPy, Matplotlib, and other Python libraries. I've loaded a few libraries to get you started.  \n"
   ]
  },
  {
   "cell_type": "code",
   "execution_count": 1,
   "id": "7844438f",
   "metadata": {},
   "outputs": [],
   "source": [
    "# Import Math, NumPy, SciPy, and Matplotlib\n",
    "import math as m\n",
    "import numpy as np\n",
    "import scipy as sc\n",
    "import matplotlib.pyplot as plt "
   ]
  },
  {
   "cell_type": "markdown",
   "id": "737d36a4-444a-4e95-bdeb-2ac4a9a11abd",
   "metadata": {},
   "source": [
    "# Q1\n",
    "\n",
    "In our first problem, we will examine the difference between tests using the Z and t distributions, and why\n",
    "the latter is preferred when exploring hypotheses concerning the means of small samples. In order to do\n",
    "so, we will use an ideal case targeting samples taken from a population with known characteristics. In\n",
    "practice, we will rarely (if ever) know the parameters of the population from which a sample is drawn, but\n",
    "our temporary omniscience will make the relevance of the following exercise much clearer.\n",
    "\n",
    "## Q1a\n",
    "\n",
    "Create a two-dimensional array with 5 rows and 50 columns, filled with normally distributed random\n",
    "variables drawn from a population with μ = 0 and σ = 1.\n",
    " \n",
    "## Q1b\n",
    "\n",
    "Treat each column as a separate sample (of n = 5), and calculate an array of sample means using a\n",
    "single line of code. Produce a similar array that gives the standard deviation of each sample. Store\n",
    "each array under names that you can easily recall; you will need these for further calculations.\n",
    "\n",
    "## Q1c\n",
    "\n",
    "Using the Z statistic, test the hypothesis that each of these samples was drawn from a population with\n",
    "μ = 0. Would you reject the null for any of your samples as the α = 0.05 level? If so, how many? In\n",
    "doing so, you shouldn’t need to resort to any NumPy or SciPy functions for the normal distribution.\n",
    "\n",
    "## Q1d\n",
    "\n",
    "Using the t statistic, test the hypothesis that each of these samples was drawn from a population with\n",
    "μ = 0. Do any of your samples differ significantly from the null? If so, how many? You should not\n",
    "have to use any NumPy or SciPy functions for the t distribution. You may, however, use the appendix\n",
    "of McKillup & Dyar or another statistical text.\n",
    "\n",
    "## Q1e\n",
    "\n",
    "Discuss the differences, if any, between your answers to the previous two questions. More generally,\n",
    "discuss the implications of any tests that rejected your null hypothesis within the framework of the\n",
    "classes of statistical error we reviewed in previous lab exercises and lectures.\n",
    "\n",
    "## Q1f\n",
    "\n",
    "Record the number of significant results for (c) and (d). We will compile these as a class at the\n",
    "beginning of the next lecture. "
   ]
  },
  {
   "cell_type": "code",
   "execution_count": 4,
   "id": "b4965b4e-8970-43f4-af46-0675d9a29f33",
   "metadata": {},
   "outputs": [
    {
     "name": "stdout",
     "output_type": "stream",
     "text": [
      "[[ 1.64723089 -0.29459875 -1.24104975  1.05799018 -0.37126242 -0.61214371\n",
      "   0.10105718 -1.83670766  0.45742916 -0.17405667 -2.63887714 -1.45442565\n",
      "   0.63940173 -1.26232144 -0.12807741  2.94856447  0.22152516  1.53948969\n",
      "   0.48896188  1.16032528 -1.75758102 -0.67273587 -0.44042076 -1.08531347\n",
      "   1.50001524 -0.66651122 -0.24409258 -0.97755504  1.05132087 -1.38951661\n",
      "  -1.15682705  0.22278295 -0.53505163  2.47241858  1.2562251  -0.48886728\n",
      "   1.06292667 -1.11624669 -0.22378297  0.32149829 -1.8992426   0.59023075\n",
      "  -0.17935741  1.2468814  -0.58140002 -1.33792244 -0.91069319  0.8918899\n",
      "  -0.09395119 -0.43668466]\n",
      " [-2.37254948 -0.17220579  0.29162763  0.03887788 -0.82506566 -1.30999836\n",
      "   0.26687164  0.3645411  -0.05383134 -0.2301464   0.17683055  0.16677978\n",
      "   1.1976238  -0.50493835 -0.63652876 -0.30290429  0.22677023  0.47446772\n",
      "  -0.87719959  2.84644032 -0.16471337  0.63522035 -0.74740388 -0.66789064\n",
      "  -0.91737467  0.22302713  0.51430839 -0.76051704  0.3255004   0.2874278\n",
      "   1.80332267  0.60127782  0.83206108  0.27219655 -0.45682905 -1.92730873\n",
      "  -1.14175661  0.12134362 -0.05163354 -1.2301928  -1.91665033 -0.98353416\n",
      "   1.02598377  2.36194595 -0.24123297  1.07740295 -0.85430662 -0.41632545\n",
      "   0.87192903 -0.37262727]\n",
      " [ 1.22678783  0.92692415 -0.52010436 -1.38284719  0.25686392  0.38917477\n",
      "  -0.96629243 -1.99797452 -0.13757032 -0.39424154 -0.41430029 -0.06355002\n",
      "  -0.39758225 -0.06500074 -0.7131934  -0.15111604 -0.12400357  0.4054895\n",
      "   0.60489518  0.28465621 -0.7859543  -1.30960058 -0.11962921  0.36097356\n",
      "  -0.49443505 -0.84206884 -1.54678101 -1.5446979   2.09834951 -1.09572102\n",
      "  -0.19268976  2.84108969 -0.13689192  0.92593742 -0.96938549 -1.22755817\n",
      "  -0.78162009  0.18306615 -0.40872883  0.35916007 -1.42160785 -0.6001066\n",
      "   0.23915754  2.38167856 -1.15752237 -0.82316929 -0.14412445 -1.07383454\n",
      "  -0.43465084  0.60090401]\n",
      " [ 0.16348675  1.4698405   0.66397881  0.70568079 -1.65154403 -1.17367533\n",
      "   0.75374459 -0.75599172 -1.05770023  0.45074751  0.50085009 -1.32201374\n",
      "  -1.01586951 -0.02070802  1.44362739  0.43741026 -1.00078619  0.35658125\n",
      "  -0.4329213   1.55288997  0.83016544 -0.1451211   0.33812683  0.06051991\n",
      "   0.09175364  2.0122741  -0.63788723  0.69303705 -0.38545704  0.31305848\n",
      "  -0.07911661 -2.30413698 -0.12917344 -1.019978   -0.38588114  0.07937155\n",
      "   1.45140559 -0.83184804 -0.02951824  0.60387768  1.97101813  0.49683692\n",
      "  -0.40836541 -0.08265538  1.39394433 -0.67531469  0.60715105 -0.53369474\n",
      "  -0.05125571 -1.72111668]\n",
      " [-0.01670476  0.98281261  0.25568414 -2.22351405 -0.58542565  0.09431142\n",
      "   1.09497507 -0.75677548  1.87416887  0.37234705 -0.25750655  1.37681208\n",
      "  -0.37379599 -0.63627989 -0.11898707  0.40100097 -0.30603708 -1.52749706\n",
      "  -1.15848802  0.85992635  0.83170433  1.00373345 -0.62403949 -0.21761356\n",
      "  -0.91994265 -0.82420859  0.50417812 -1.22210195 -0.45312761 -1.47678867\n",
      "  -1.01255632 -0.7196882  -0.22546704  0.67070996  0.62581761  0.27641875\n",
      "   0.65300261 -1.66911384  1.42271934  0.83555919  0.05288526 -0.51380407\n",
      "   1.16187947  0.61622045 -1.91297345  0.08188558  0.56363287  1.13770847\n",
      "  -1.56199685 -0.09699488]]\n",
      "(5, 50)\n"
     ]
    }
   ],
   "source": [
    "#Q1a\n",
    "rng = np.random.default_rng()\n",
    "array=rng.normal(size=(5, 50))\n",
    "print(array)\n",
    "print(array.shape)"
   ]
  },
  {
   "cell_type": "code",
   "execution_count": 5,
   "id": "82a4afac-bc9b-4b4f-be9b-d81ab15c4ea9",
   "metadata": {},
   "outputs": [
    {
     "name": "stdout",
     "output_type": "stream",
     "text": [
      "[0.1296502455755538, 0.5825545442240813, -0.10997270746888092, -0.3607624794556041, -0.6352867681413341, -0.5224662413218887, 0.25007121213325795, -0.9965816579890501, 0.21649922931253132, 0.004929990377670002, -0.5266006715567614, -0.25927951257282267, 0.009955554503665831, -0.49784968989548606, -0.03063184906500758, 0.6665910738109991, -0.19650628814123855, 0.2497062197225452, -0.2749503708706252, 1.3408476251560613, -0.20927578407566272, -0.09770074848314411, -0.31867330136951083, -0.3098648415677987, -0.14799669876517804, -0.019497484652516217, -0.2820548617915512, -0.762366976013347, 0.5273172269067924, -0.6723080028202075, -0.12757341411531137, 0.12826505463439478, -0.03890459171364122, 0.6642569023263624, 0.013989406990685072, -0.6575887747431384, 0.2487916336503, -0.6625597605950772, 0.14181115388645887, 0.17798048640200786, -0.6427194786083024, -0.2020754331635984, 0.3678595916388725, 1.3048141965006053, -0.49983689716482826, -0.33542357770966114, -0.14766806891436735, 0.0011487297408929286, -0.2539851130285239, -0.40530389806066747]\n",
      "[1.3993091210866717, 0.6935610117237242, 0.6843291531602952, 1.2509495044707206, 0.6224022311217944, 0.6728783221025656, 0.702791199795466, 0.8575132702423153, 0.9620752579923207, 0.34070034060334986, 1.1042830670523358, 1.0444530211849388, 0.7965460064335413, 0.4513651787101417, 0.7776559553772565, 1.1780518394853836, 0.4512279023342003, 0.9907776074007085, 0.7107725120253919, 0.8592072173157947, 0.9895322815619956, 0.8428458809811926, 0.39061126917967964, 0.5148247009566976, 0.9034695480186823, 1.0890109570575512, 0.7720034671426156, 0.7730340379431222, 0.9568574854183307, 0.8041014652119599, 1.0561728702015387, 1.6868726448356803, 0.45984750162247184, 1.1250178227606256, 0.8082172888416075, 0.8223139754473289, 1.0264361094047816, 0.7179455651599378, 0.6548669689766937, 0.7280348317425601, 1.4915701470507428, 0.6296838652514328, 0.629623842412786, 0.967445479921129, 1.1035797167032848, 0.8400775612513209, 0.6568498843651662, 0.860362612948482, 0.7845925731785032, 0.7537804173260945]\n"
     ]
    }
   ],
   "source": [
    "#Q1b\n",
    "#Treat each column as a separate sample (of n = 5), and calculate an array of sample means using a single line of code. \n",
    "#Produce a similar array that gives the standard deviation of each sample. \n",
    "#Store each array under names that you can easily recall; you will need these for further calculations.\n",
    "\n",
    "mean_array=[np.mean(array[:,i]) for i in range(array.shape[1])]\n",
    "std_array=[np.std(array[:,i])for i in range(array.shape[1])]\n",
    "print(mean_array)\n",
    "print(std_array)"
   ]
  },
  {
   "cell_type": "code",
   "execution_count": 6,
   "id": "4ab919d7-15fb-40f9-a318-7c34d88d4b1b",
   "metadata": {},
   "outputs": [
    {
     "name": "stdout",
     "output_type": "stream",
     "text": [
      "[ 1.29650246e-01  5.82554544e-01 -1.09972707e-01 -3.60762479e-01\n",
      " -6.35286768e-01 -5.22466241e-01  2.50071212e-01 -9.96581658e-01\n",
      "  2.16499229e-01  4.92999038e-03 -5.26600672e-01 -2.59279513e-01\n",
      "  9.95555450e-03 -4.97849690e-01 -3.06318491e-02  6.66591074e-01\n",
      " -1.96506288e-01  2.49706220e-01 -2.74950371e-01  1.34084763e+00\n",
      " -2.09275784e-01 -9.77007485e-02 -3.18673301e-01 -3.09864842e-01\n",
      " -1.47996699e-01 -1.94974847e-02 -2.82054862e-01 -7.62366976e-01\n",
      "  5.27317227e-01 -6.72308003e-01 -1.27573414e-01  1.28265055e-01\n",
      " -3.89045917e-02  6.64256902e-01  1.39894070e-02 -6.57588775e-01\n",
      "  2.48791634e-01 -6.62559761e-01  1.41811154e-01  1.77980486e-01\n",
      " -6.42719479e-01 -2.02075433e-01  3.67859592e-01  1.30481420e+00\n",
      " -4.99836897e-01 -3.35423578e-01 -1.47668069e-01  1.14872974e-03\n",
      " -2.53985113e-01 -4.05303898e-01]\n",
      "[1.39930912 0.69356101 0.68432915 1.2509495  0.62240223 0.67287832\n",
      " 0.7027912  0.85751327 0.96207526 0.34070034 1.10428307 1.04445302\n",
      " 0.79654601 0.45136518 0.77765596 1.17805184 0.4512279  0.99077761\n",
      " 0.71077251 0.85920722 0.98953228 0.84284588 0.39061127 0.5148247\n",
      " 0.90346955 1.08901096 0.77200347 0.77303404 0.95685749 0.80410147\n",
      " 1.05617287 1.68687264 0.4598475  1.12501782 0.80821729 0.82231398\n",
      " 1.02643611 0.71794557 0.65486697 0.72803483 1.49157015 0.62968387\n",
      " 0.62962384 0.96744548 1.10357972 0.84007756 0.65684988 0.86036261\n",
      " 0.78459257 0.75378042]\n"
     ]
    }
   ],
   "source": [
    "purata=np.mean(array,axis=0)\n",
    "sisihan_piawai=np.std(array,axis=0)\n",
    "\n",
    "print(purata)\n",
    "print(sisihan_piawai)"
   ]
  },
  {
   "cell_type": "code",
   "execution_count": 20,
   "id": "95a68800-e799-45e7-acd0-f2b84b696cbe",
   "metadata": {},
   "outputs": [
    {
     "name": "stdout",
     "output_type": "stream",
     "text": [
      "Total Z scores: 50\n",
      "Number of significant Z scores, for which I'd reject the null hypothesis: 3\n"
     ]
    }
   ],
   "source": [
    "#Q1c\n",
    "#Using the Z statistic, test the hypothesis that each of these samples was drawn from a population with μ = 0. \n",
    "#Would you reject the null for any of your samples as the α = 0.05 level? If so, how many? \n",
    "#In doing so, you shouldn’t need to resort to any NumPy or SciPy functions for the normal distribution.\n",
    "\n",
    "mean_actual_array = np.array(mean_array)\n",
    "Z_scores = np.sqrt(5) * (mean_actual_array - 0)  #SE = 1/sqrt(5)\n",
    "print('Total Z scores:', len(Z_scores))\n",
    "\n",
    "alpha = 0.05\n",
    "significant_Z_results = np.sum(np.abs(Z_scores) > 1.960)\n",
    "\n",
    "print(\"Number of significant Z scores, for which I'd reject the null hypothesis:\", significant_Z_results)"
   ]
  },
  {
   "cell_type": "markdown",
   "id": "0b17abf8-e634-4222-acf1-f4126c3cd58e",
   "metadata": {},
   "source": [
    "### Q1d\n",
    "\n",
    "$t = \\frac{\\bar{x}}{\\frac{s}{\\sqrt{n}}}$"
   ]
  },
  {
   "cell_type": "code",
   "execution_count": 19,
   "id": "b8e8730a-15c5-4826-b806-cf4f3702189b",
   "metadata": {},
   "outputs": [
    {
     "name": "stdout",
     "output_type": "stream",
     "text": [
      "Total t scores: 50\n",
      "Number of significant t scores, for which I'd reject the null hypothesis: 2\n"
     ]
    }
   ],
   "source": [
    "#Q1d\n",
    "t_scores = mean_actual_array / (np.array(std_array) / np.sqrt(5))\n",
    "print('Total t scores:', len(t_scores))\n",
    "significant_t_results = np.sum(np.abs(t_scores) > 2.776)\n",
    "\n",
    "print(\"Number of significant t scores, for which I'd reject the null hypothesis:\", significant_t_results)\n"
   ]
  },
  {
   "cell_type": "markdown",
   "id": "9c5abbe6-7d54-4943-a8ee-2b34dc94c25b",
   "metadata": {},
   "source": [
    "### Q1e\n",
    "We have rejected the null hypothesis more in the z test compared to the t test, which may indicate the z test can produce more type 1 error. Z test assumes that we know the population standard deviation, which means there's no variability due to sampling. However, in reality, we don't know the population standard deviation and have to estimate it using the sample standard deviation in a t test, so the t test is more conservative. "
   ]
  },
  {
   "cell_type": "markdown",
   "id": "7df3abbe-e0c8-4da3-a46c-d58a810e5f19",
   "metadata": {},
   "source": [
    "# Q2\n",
    "\n",
    "In lecture, we learned about important assumptions of the t test, and explored some ways in which we\n",
    "might transform our measurements to better meet its assumptions. We also mentioned that the t test was\n",
    "remarkably robust, meaning that it was likely to give reasonable probabilities even when its assumptions\n",
    "were substantially violated. In this problem, we’ll throw some major challenges at the t test, and see how\n",
    "it fares. Complete steps (b)-(f) twice, so that you have results for two sets tests. (This can be accomplished\n",
    "by running your code twice.) For the second set of tests, note only whether the results are significant at\n",
    "\n",
    "## Q2a\n",
    "\n",
    "Some basics before beginning. What is the null hypothesis associated with a two-sample t test? What\n",
    "are the assumptions of this test?\n",
    "\n",
    "## Q2b\n",
    "\n",
    "Generate two datasets, each of 100 normally distributed random variables drawn from populations\n",
    "with the same mean and standard deviation. You can choose any values you wish for these parameters.\n",
    "\n",
    "## Q2c\n",
    "\n",
    "Conduct a two-sample t test on these data using the function scipy.stats.ttest_ind(). Do their means\n",
    "differ at the α = 0.10 level?\n",
    "\n",
    "## Q2d\n",
    "\n",
    "Generate two new sets of 1000 random variables, each taken from a distribution with a mean and\n",
    "standard deviation of 1. One of these sets of variables should be drawn from an exponential\n",
    "distribution, and the other should be drawn from a normal distribution. You might need to consult\n",
    "Pitman, another reference, or the internet in order to find the expression for the standard deviation of\n",
    "the exponential distribution.\n",
    "\n",
    "## Q2e\n",
    "\n",
    "Test for a significant difference (as above, at the α = 0.10 level) between sample means using a twosample t test. Which assumption(s) of the t test have you just violated?\n",
    "\n",
    "## Q2f\n",
    "\n",
    "Generate a final pair of simulated datasets of 1000 random variables. The first should be drawn from\n",
    "a normal distribution with μ = 1000 and σ = 0.1. The second should be drawn from an exponential\n",
    "distribution, the mean of which is equal to that of the normal (what is σ for this particular exponential\n",
    "distribution?). Test for a significant difference (as above, at the α = 0.10 level) between sample means\n",
    "using a two-sample t test. Which assumption(s) of the t test have you just violated? "
   ]
  },
  {
   "cell_type": "markdown",
   "id": "30b1bfe2-6707-4d78-b6b0-31018cde25c1",
   "metadata": {},
   "source": [
    "### Q2a\n",
    "\n",
    "H0: There is no difference between the means of the two populations from which the samples are drawn\n",
    "\n",
    "H1: There is a difference between the means of the two populations from which the samples are drawn\n",
    "\n",
    "Assumptions:\n",
    "\n",
    "-Underlying population is normally distributed\n",
    "\n",
    "-Observations are independent "
   ]
  },
  {
   "cell_type": "code",
   "execution_count": 28,
   "id": "65febafc-e155-44b0-aa9f-c97ede1a016b",
   "metadata": {},
   "outputs": [],
   "source": [
    "#Q2b-tr1\n",
    "np.random.seed(0)\n",
    "data1 = np.random.normal(loc=50, scale=10, size=100)\n",
    "data2 = np.random.normal(loc=50, scale=10, size=100)\n"
   ]
  },
  {
   "cell_type": "code",
   "execution_count": 27,
   "id": "37a6dcbb-371f-4e3a-aaa2-b3d9b9211f0b",
   "metadata": {},
   "outputs": [],
   "source": [
    "#Q2b-tr2\n",
    "np.random.seed(1)\n",
    "data11 = np.random.normal(loc=50, scale=10, size=100)\n",
    "data22 = np.random.normal(loc=50, scale=10, size=100)\n"
   ]
  },
  {
   "cell_type": "code",
   "execution_count": 39,
   "id": "b37d1378-e61c-4b86-8677-5a5fa1c202ae",
   "metadata": {},
   "outputs": [
    {
     "name": "stdout",
     "output_type": "stream",
     "text": [
      "Do not reject the null hypothesis: Means do not differ significantly\n"
     ]
    }
   ],
   "source": [
    "#Q2c-tr1\n",
    "\n",
    "t_stat, p_val = sc.stats.ttest_ind(data1, data2)\n",
    "\n",
    "alpha = 0.10\n",
    "if p_val < alpha:\n",
    "    print(\"Reject the null hypothesis: Means differ significantly\")\n",
    "else:\n",
    "    print(\"Do not reject the null hypothesis: Means do not differ significantly\")"
   ]
  },
  {
   "cell_type": "code",
   "execution_count": 38,
   "id": "83f577fd-6de1-4c32-9dfd-407fddb40fe9",
   "metadata": {},
   "outputs": [
    {
     "name": "stdout",
     "output_type": "stream",
     "text": [
      "Do not reject the null hypothesis: Means do not differ significantly\n"
     ]
    }
   ],
   "source": [
    "#Q2c-tr2\n",
    "\n",
    "t_stat, p_val = sc.stats.ttest_ind(data11, data22)\n",
    "\n",
    "alpha = 0.10\n",
    "if p_val < alpha:\n",
    "    print(\"Reject the null hypothesis: Means differ significantly\")\n",
    "else:\n",
    "    print(\"Do not reject the null hypothesis: Means do not differ significantly\")"
   ]
  },
  {
   "cell_type": "code",
   "execution_count": 33,
   "id": "89c0e33c-01de-4258-b164-62c259dac23e",
   "metadata": {},
   "outputs": [],
   "source": [
    "#Q2d-tr1\n",
    "np.random.seed(2)\n",
    "\n",
    "data_normal1 = np.random.normal(loc=0, scale=1, size=1000)\n",
    "data_exponential1 = np.random.exponential(scale=1, size=1000)"
   ]
  },
  {
   "cell_type": "code",
   "execution_count": 34,
   "id": "d70eae1e-5728-4332-a357-56f0759d69a4",
   "metadata": {},
   "outputs": [],
   "source": [
    "#Q2d-tr2\n",
    "np.random.seed(3)\n",
    "\n",
    "data_normal2 = np.random.normal(loc=0, scale=1, size=1000)\n",
    "data_exponential2 = np.random.exponential(scale=1, size=1000)"
   ]
  },
  {
   "cell_type": "code",
   "execution_count": 40,
   "id": "6f8b85e0-1bd9-40bc-8f7c-1337ae13172a",
   "metadata": {},
   "outputs": [
    {
     "name": "stdout",
     "output_type": "stream",
     "text": [
      "Reject the null hypothesis: Means differ significantly\n"
     ]
    }
   ],
   "source": [
    "#Q2e-tr1\n",
    "t_stat, p_val = sc.stats.ttest_ind(data_normal1, data_exponential1)\n",
    "\n",
    "alpha = 0.10\n",
    "if p_val < alpha:\n",
    "    print(\"Reject the null hypothesis: Means differ significantly\")\n",
    "else:\n",
    "    print(\"Do not reject the null hypothesis: Means do not differ significantly\")"
   ]
  },
  {
   "cell_type": "code",
   "execution_count": 41,
   "id": "c9791fb3-ac61-49c8-b235-fd23ea54651c",
   "metadata": {},
   "outputs": [
    {
     "name": "stdout",
     "output_type": "stream",
     "text": [
      "Reject the null hypothesis: Means differ significantly\n"
     ]
    }
   ],
   "source": [
    "#Q2e-tr2\n",
    "t_stat, p_val = sc.stats.ttest_ind(data_normal2, data_exponential2)\n",
    "\n",
    "alpha = 0.10\n",
    "if p_val < alpha:\n",
    "    print(\"Reject the null hypothesis: Means differ significantly\")\n",
    "else:\n",
    "    print(\"Do not reject the null hypothesis: Means do not differ significantly\")"
   ]
  },
  {
   "cell_type": "markdown",
   "id": "7b82602c-d70a-4b22-be78-880c2061e96b",
   "metadata": {},
   "source": [
    "Here we have violated the assumption that underlying population is normally distributed"
   ]
  },
  {
   "cell_type": "code",
   "execution_count": 43,
   "id": "f47a531e-eb0d-49d4-b310-378d0e1999c4",
   "metadata": {},
   "outputs": [
    {
     "name": "stdout",
     "output_type": "stream",
     "text": [
      "Reject the null hypothesis: Means differ significantly\n"
     ]
    }
   ],
   "source": [
    "#Q2f-tr1\n",
    "\n",
    "np.random.seed(4)\n",
    "\n",
    "data_normal_large1 = np.random.normal(loc=1000, scale=0.1, size=1000)\n",
    "\n",
    "mean_normal_large1 = np.mean(data_normal_large1)\n",
    "\n",
    "\n",
    "# rate parameter of the exponential distribution = mean of the normal distribution\n",
    "# σ = μ for exp\n",
    "std_exponential1 = mean_normal_large1\n",
    "rate_parameter1= 1/std_exponential1\n",
    "\n",
    "data_exponential_large1 = np.random.exponential(scale=rate_parameter1, size=1000)\n",
    "\n",
    "\n",
    "t_stat, p_val = sc.stats.ttest_ind(data_normal_large1, data_exponential_large1)\n",
    "\n",
    "\n",
    "alpha = 0.10\n",
    "if p_val < alpha:\n",
    "    print(\"Reject the null hypothesis: Means differ significantly\")\n",
    "else:\n",
    "    print(\"Do not reject the null hypothesis: Means do not differ significantly\")\n"
   ]
  },
  {
   "cell_type": "code",
   "execution_count": 44,
   "id": "7f3b2f3e-3b4d-4d9f-a288-daa3d8f1d9c0",
   "metadata": {},
   "outputs": [
    {
     "name": "stdout",
     "output_type": "stream",
     "text": [
      "Reject the null hypothesis: Means differ significantly\n"
     ]
    }
   ],
   "source": [
    "#Q2f-tr2\n",
    "np.random.seed(5)\n",
    "\n",
    "data_normal_large2 = np.random.normal(loc=1000, scale=0.1, size=1000)\n",
    "\n",
    "mean_normal_large2 = np.mean(data_normal_large2)\n",
    "\n",
    "\n",
    "\n",
    "std_exponential2 = mean_normal_large2\n",
    "rate_parameter2= 1/std_exponential2\n",
    "\n",
    "data_exponential_large2 = np.random.exponential(scale=rate_parameter2, size=1000)\n",
    "\n",
    "\n",
    "t_stat, p_val = sc.stats.ttest_ind(data_normal_large2, data_exponential_large2)\n",
    "\n",
    "\n",
    "alpha = 0.10\n",
    "if p_val < alpha:\n",
    "    print(\"Reject the null hypothesis: Means differ significantly\")\n",
    "else:\n",
    "    print(\"Do not reject the null hypothesis: Means do not differ significantly\")\n"
   ]
  },
  {
   "cell_type": "markdown",
   "id": "417a4b7f-9b9f-4ac0-bfe9-8c6ba000798a",
   "metadata": {},
   "source": [
    "# Q3\n",
    "\n",
    "The central limit theorem was a topic covered in lecture. Here we’ll revisit the topic with a simulation\n",
    "experiment in Python.\n",
    "\n",
    "## Q3a\n",
    "\n",
    "The uniform distribution is decidedly non-normal. It is specified by two parameters, a and b, with\n",
    "uniform random variables assuming values between these two parameters. The probability density\n",
    "function of the uniform is a horizontal line (i.e., all values between a and b have equal probability\n",
    "densities). Generate a 30-by-100 array of uniform (0,1) random variables using a NumPy function.\n",
    "For the remainder of this exercise, we’ll assume that the columns represent separate samples.\n",
    "\n",
    "## Q3b\n",
    "\n",
    "Calculate the mean of each column using a single line of code, and plot these as a histogram. How\n",
    "does your plot of means differ from the parent distribution? What is the mean of this new distribution?\n",
    "Standard deviation?\n",
    "\n",
    "## Q3c\n",
    "\n",
    "Repeat the previous steps, but this time using another highly non-normal distribution: the exponential.\n",
    "Choose any value of the rate parameter λ you wish, but answer the two questions posed above in (b).\n",
    "\n",
    "## Q3d\n",
    "\n",
    "What is the significance of the pattern that emerges from the previous two exercises? "
   ]
  },
  {
   "cell_type": "code",
   "execution_count": 3,
   "id": "e38b84f3-880b-4b82-85e9-4532e61f3f16",
   "metadata": {},
   "outputs": [
    {
     "name": "stdout",
     "output_type": "stream",
     "text": [
      "[[0.46586534 0.81610735 0.54961829 ... 0.94277278 0.57396875 0.33656486]\n",
      " [0.3373997  0.96409767 0.26046796 ... 0.88873285 0.95987666 0.35081783]\n",
      " [0.74658079 0.95055156 0.62919581 ... 0.0071267  0.59530198 0.34406477]\n",
      " ...\n",
      " [0.49076703 0.18016975 0.91282309 ... 0.1336181  0.89814022 0.27999537]\n",
      " [0.28224939 0.4220973  0.85599063 ... 0.91683287 0.00206674 0.27793838]\n",
      " [0.13247339 0.76225656 0.20631446 ... 0.56342623 0.20078677 0.37752351]]\n",
      "(30, 100)\n"
     ]
    }
   ],
   "source": [
    "#Q3a\n",
    "uniform_data = np.random.uniform(0, 1, size=(30, 100))\n",
    "print(uniform_data)\n",
    "print(uniform_data.shape)"
   ]
  },
  {
   "cell_type": "code",
   "execution_count": 8,
   "id": "49f8919c-e093-4adf-aeb7-0a2ae72de079",
   "metadata": {},
   "outputs": [
    {
     "data": {
      "image/png": "[encoded data removed]",
      "text/plain": [
       "<Figure size 640x480 with 1 Axes>"
      ]
     },
     "metadata": {},
     "output_type": "display_data"
    },
    {
     "name": "stdout",
     "output_type": "stream",
     "text": [
      "Mean of the means of each column (uniform): 0.5072266220343892\n",
      "Mean of the parent distribution :0.5\n",
      "Standard deviation of the means of each column (uniform): 0.04932771261893354\n"
     ]
    }
   ],
   "source": [
    "# Q3b\n",
    "uniform_means = np.mean(uniform_data, axis=0)\n",
    "plt.hist(uniform_means, bins=20, edgecolor='black')\n",
    "plt.title('Histogram of Means for Uniform Distribution')\n",
    "plt.xlabel('Mean')\n",
    "plt.ylabel('Frequency')\n",
    "plt.show()\n",
    "\n",
    "uniform_mean = np.mean(uniform_means)\n",
    "uniform_std = np.std(uniform_means)\n",
    "print(\"Mean of the means of each column (uniform):\", uniform_mean)\n",
    "print(\"Mean of the parent distribution :0.5\")\n",
    "print(\"Standard deviation of the means of each column (uniform):\", uniform_std)\n"
   ]
  },
  {
   "cell_type": "code",
   "execution_count": 9,
   "id": "865f2154-abb8-490f-b9f3-97213e0f43fa",
   "metadata": {},
   "outputs": [
    {
     "data": {
      "image/png": "[encoded data removed]",
      "text/plain": [
       "<Figure size 640x480 with 1 Axes>"
      ]
     },
     "metadata": {},
     "output_type": "display_data"
    },
    {
     "name": "stdout",
     "output_type": "stream",
     "text": [
      "Mean of the new distribution (exponential): 2.002116296283844\n",
      "Mean of the parent distribution :2\n",
      "Standard deviation of the new distribution (exponential): 0.3209237715482851\n"
     ]
    }
   ],
   "source": [
    "# Q3c\n",
    "rate_parameter = 0.5\n",
    "exponential_data = np.random.exponential(1/rate_parameter, size=(30, 100))\n",
    "\n",
    "exponential_means = np.mean(exponential_data, axis=0)\n",
    "plt.hist(exponential_means, bins=20, edgecolor='black')\n",
    "plt.title('Histogram of Means for Exponential Distribution')\n",
    "plt.xlabel('Mean')\n",
    "plt.ylabel('Frequency')\n",
    "plt.show()\n",
    "\n",
    "exponential_mean = np.mean(exponential_means)\n",
    "exponential_std = np.std(exponential_means)\n",
    "print(\"Mean of the new distribution (exponential):\", exponential_mean)\n",
    "print(\"Mean of the parent distribution :2\")\n",
    "print(\"Standard deviation of the new distribution (exponential):\", exponential_std)\n"
   ]
  },
  {
   "cell_type": "markdown",
   "id": "9580132e-34ee-4ff6-85d5-ecaa331606d6",
   "metadata": {},
   "source": [
    "### Q3d\n",
    "\n",
    "Although the parent distributions are not normal, the distributions of means tend towards a normal distribution bell curve. This is the central limit theorem: sampling distribution of sample mean approaches a normal distribution as the sample size increases, regardless of the shape of the population distribution."
   ]
  },
  {
   "cell_type": "code",
   "execution_count": null,
   "id": "da053602-7643-43e1-8d9a-1b2a83a19366",
   "metadata": {},
   "outputs": [],
   "source": []
  }
 ],
 "metadata": {
  "kernelspec": {
   "display_name": "Python 3 (ipykernel)",
   "language": "python",
   "name": "python3"
  },
  "language_info": {
   "codemirror_mode": {
    "name": "ipython",
    "version": 3
   },
   "file_extension": ".py",
   "mimetype": "text/x-python",
   "name": "python",
   "nbconvert_exporter": "python",
   "pygments_lexer": "ipython3",
   "version": "3.10.13"
  }
 },
 "nbformat": 4,
 "nbformat_minor": 5
}
